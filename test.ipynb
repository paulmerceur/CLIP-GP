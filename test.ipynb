{
 "cells": [
  {
   "cell_type": "code",
   "execution_count": 12,
   "id": "6f868938",
   "metadata": {},
   "outputs": [
    {
     "name": "stdout",
     "output_type": "stream",
     "text": [
      "Reading split from /mnt/features/VDATA/caltech-101/split_zhou_Caltech101.json\n",
      "Loading preprocessed few-shot data from /mnt/features/VDATA/caltech-101/split_fewshot/shot_1-seed_1.pkl\n",
      "---------  ----------\n",
      "Dataset    Caltech101\n",
      "# classes  100\n",
      "# train_x  100\n",
      "# val      100\n",
      "# test     2465\n",
      "---------  ----------\n",
      "Loading CLIP (backbone: RN50)\n"
     ]
    },
    {
     "name": "stdout",
     "output_type": "stream",
     "text": [
      "Building custom CLIP\n",
      "[GP] Auto length-scale (normalised median): 0.9455\n"
     ]
    }
   ],
   "source": [
    "from trainers.adapters import CustomCLIP\n",
    "import torch\n",
    "from utils import parse_args_to_config, build_data_manager, build_trainer\n",
    "import sys\n",
    "from contextlib import contextmanager\n",
    "\n",
    "@contextmanager\n",
    "def patch_argv(argv):\n",
    "    old = sys.argv\n",
    "    sys.argv = [old[0]] + argv\n",
    "    try:\n",
    "        yield\n",
    "    finally:\n",
    "        sys.argv = old\n",
    "\n",
    "with patch_argv(['--config-file', './configs/trainers/gp.yaml']):\n",
    "    config = parse_args_to_config()\n",
    "\n",
    "data_manager = build_data_manager(config)\n",
    "trainer = build_trainer(config, data_manager)\n",
    "trainer.build_model()"
   ]
  },
  {
   "cell_type": "code",
   "execution_count": 18,
   "id": "f476c8f0",
   "metadata": {},
   "outputs": [
    {
     "data": {
      "text/plain": [
       "Parameter containing:\n",
       "tensor(4.6052, device='cuda:0')"
      ]
     },
     "execution_count": 18,
     "metadata": {},
     "output_type": "execute_result"
    }
   ],
   "source": [
    "trainer.model.logit_scale"
   ]
  },
  {
   "cell_type": "code",
   "execution_count": 2,
   "id": "53eaade1",
   "metadata": {},
   "outputs": [],
   "source": [
    "import os, numpy as np, pandas as pd, matplotlib.pyplot as plt\n",
    "from cycler import cycler\n",
    "\n",
    "df = pd.read_csv(\"./output/runs.csv\")\n",
    "df = df.drop_duplicates(subset=[\"experiment_name\",\"dataset\",\"shots\",\"config_label\"])\n",
    "df[\"shots\"] = df[\"shots\"].astype(int)\n",
    "\n",
    "plt.rcParams.update({\n",
    "    \"font.size\": 12, \"figure.dpi\": 150,\n",
    "    \"axes.prop_cycle\": cycler(color=plt.cm.tab10.colors)\n",
    "})\n",
    "metrics = [(\"acc_mean\",\"acc_std\",\"Accuracy\"),\n",
    "           (\"ece_mean\",\"ece_std\",\"ECE\"),\n",
    "           (\"aece_mean\",\"aece_std\",\"AECE\")]\n",
    "outdir = \"./output/plots\"; os.makedirs(outdir, exist_ok=True)\n",
    "\n",
    "# # --- Single-metric grouped BAR plots ---\n",
    "# for dset, g in df.groupby(\"dataset\"):\n",
    "#     models = sorted(g[\"experiment_name\"].unique())\n",
    "#     shots = np.array(sorted(g[\"shots\"].unique()))\n",
    "#     x = np.arange(len(shots)); W = 0.8 / max(1, len(models))\n",
    "\n",
    "#     for m_mean, m_std, m_name in metrics:\n",
    "#         plt.figure(figsize=(8,6)); plt.title(f\"{dset} — {m_name}\")\n",
    "#         for i, model in enumerate(models):\n",
    "#             gm = g[g[\"experiment_name\"]==model]\n",
    "#             h = gm.groupby(\"shots\", as_index=True).agg({m_mean:\"mean\", m_std:\"mean\"})\n",
    "#             y    = h[m_mean].reindex(shots).to_numpy()\n",
    "#             yerr = h[m_std].reindex(shots).to_numpy()\n",
    "#             plt.bar(x + (i - (len(models)-1)/2)*W, y, W, yerr=yerr, capsize=3,\n",
    "#                     edgecolor=\"black\", linewidth=0.6, label=model)\n",
    "#         plt.xticks(x, shots); plt.xlabel(\"Shots\"); plt.ylabel(m_name)\n",
    "#         plt.grid(True, ls=\"--\", alpha=.3, axis=\"y\")\n",
    "#         if m_name in [\"ECE\",\"AECE\"]:\n",
    "#             plt.gca().yaxis.set_major_formatter(plt.FormatStrFormatter(\"%.3f\"))\n",
    "#         if m_name == \"Accuracy\":\n",
    "#             lo, hi = g[\"acc_mean\"].min(), g[\"acc_mean\"].max()\n",
    "#             plt.ylim(max(0, lo - 10), min(100, hi + 10))\n",
    "#         plt.legend(frameon=False)\n",
    "#         plt.tight_layout(); plt.savefig(f\"{outdir}/{dset}_{m_name}.png\"); plt.close()\n",
    "\n",
    "# --- 3-metric BAR plots per dataset (legend only in AECE) ---\n",
    "for dset, g in df.groupby(\"dataset\"):\n",
    "    models = sorted(g[\"experiment_name\"].unique())\n",
    "    shots = np.array(sorted(g[\"shots\"].unique()))\n",
    "    x = np.arange(len(shots)); W = 0.8 / max(1, len(models))\n",
    "\n",
    "    fig, axes = plt.subplots(1, 3, figsize=(20,8), sharex=True)\n",
    "    for ax, (m_mean, m_std, m_name) in zip(axes, metrics):\n",
    "        for i, model in enumerate(models):\n",
    "            gm = g[g[\"experiment_name\"]==model]\n",
    "            h = gm.groupby(\"shots\", as_index=True).agg({m_mean:\"mean\", m_std:\"mean\"})\n",
    "            y    = h[m_mean].reindex(shots).to_numpy()\n",
    "            yerr = h[m_std].reindex(shots).to_numpy()\n",
    "            ax.bar(x + (i - (len(models)-1)/2)*W, y, W, yerr=yerr, capsize=3,\n",
    "                   edgecolor=\"black\", linewidth=0.6, label=model)\n",
    "        ax.set_title(m_name); ax.set_xlabel(\"Shots\"); ax.set_ylabel(m_name)\n",
    "        ax.grid(True, ls=\"--\", alpha=.3, axis=\"y\"); ax.set_xticks(x, shots)\n",
    "        if m_name in [\"ECE\",\"AECE\"]:\n",
    "            ax.yaxis.set_major_formatter(plt.FormatStrFormatter(\"%.3f\"))\n",
    "        if m_name == \"Accuracy\":\n",
    "            lo, hi = g[\"acc_mean\"].min(), g[\"acc_mean\"].max()\n",
    "            ax.set_ylim(max(0, lo - 10), min(100, hi + 10))\n",
    "        if m_name == \"AECE\":\n",
    "            ax.legend(frameon=False, loc=\"best\")\n",
    "    plt.tight_layout(); plt.savefig(f\"{outdir}/{dset}_all_metrics.png\"); plt.close()\n"
   ]
  }
 ],
 "metadata": {
  "kernelspec": {
   "display_name": "clip-gp",
   "language": "python",
   "name": "python3"
  },
  "language_info": {
   "codemirror_mode": {
    "name": "ipython",
    "version": 3
   },
   "file_extension": ".py",
   "mimetype": "text/x-python",
   "name": "python",
   "nbconvert_exporter": "python",
   "pygments_lexer": "ipython3",
   "version": "3.8.20"
  }
 },
 "nbformat": 4,
 "nbformat_minor": 5
}
